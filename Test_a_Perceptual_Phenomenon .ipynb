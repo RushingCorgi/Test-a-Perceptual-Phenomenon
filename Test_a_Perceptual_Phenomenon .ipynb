{
 "cells": [
  {
   "cell_type": "markdown",
   "metadata": {},
   "source": [
    "### Analyzing the Stroop Effect\n",
    "Perform the analysis in the space below. Remember to follow [the instructions](https://docs.google.com/document/d/1-OkpZLjG_kX9J6LIQ5IltsqMzVWjh36QpnP2RYpVdPU/pub?embedded=True) and review the [project rubric](https://review.udacity.com/#!/rubrics/71/view) before submitting. Once you've completed the analysis and write up, download this file as a PDF or HTML file and submit in the next section.\n",
    "\n",
    "\n",
    "(1) What is the independent variable? What is the dependent variable?"
   ]
  },
  {
   "cell_type": "markdown",
   "metadata": {},
   "source": [
    "The independent variable is a boolean variable: congruent. If one task is in congruent word condition, then congruent = true. Otherwise, congruent = false. \n",
    "\n",
    "\n",
    "The dependent variable is a continuous variable: the total time to finish one task."
   ]
  },
  {
   "cell_type": "markdown",
   "metadata": {},
   "source": [
    "(2) What is an appropriate set of hypotheses for this task? What kind of statistical test do you expect to perform? Justify your choices."
   ]
  },
  {
   "cell_type": "markdown",
   "metadata": {},
   "source": [
    "In this experiment, we will use paired t-test to analyze the Stroop Effect.\n",
    "The assumptions for paired t-test are listed as follow:\n",
    "* The dependent variable must be continuous (interval/ratio).\n",
    "* The observations are independent of one another.\n",
    "* The dependent variable should be approximately normally distributed.\n",
    "* The dependent variable should not contain any outliers.\n",
    "\n",
    "Null hypothesis $\\mathcal{H}_0$: the mean difference between congruent and incongruent word condition is zero. \n",
    "Mathematically speaking: $\\mu_d = 0$.\n",
    "\n",
    "Alternative hypothesis $\\mathcal{H}_1$: the mean difference between congruent and incongruent word condition is not zero. \n",
    "Mathematically speaking: $\\mu_d \\neq 0$."
   ]
  },
  {
   "cell_type": "markdown",
   "metadata": {},
   "source": [
    "(3) Report some descriptive statistics regarding this dataset. Include at least one measure of central tendency and at least one measure of variability. The name of the data file is 'stroopdata.csv'."
   ]
  },
  {
   "cell_type": "code",
   "execution_count": 1,
   "metadata": {},
   "outputs": [
    {
     "name": "stdout",
     "output_type": "stream",
     "text": [
      "-------------------------\n",
      "Mean: \n",
      "congruent = 14.051125\n",
      "incongruent = 22.0159166667\n",
      "-------------------------\n",
      "Median: \n",
      "congruent = 14.3565\n",
      "incongruent = 21.0175\n",
      "-------------------------\n",
      "Range: \n",
      "congruent = 13.698\n",
      "incongruent = 19.568\n",
      "-------------------------\n",
      "IQR: \n",
      "congruent = 4.3055\n",
      "incongruent = 5.33475\n"
     ]
    }
   ],
   "source": [
    "# Perform the analysis here\n",
    "# load data\n",
    "import pandas as pd\n",
    "import numpy as np\n",
    "import statistics\n",
    "df = pd.read_csv('stroopdata.csv')\n",
    "mat = df.values\n",
    "\n",
    "#report mean\n",
    "[cong_mean,incong_mean]= np.mean(mat, axis = 0)\n",
    "print('-------------------------')\n",
    "print('Mean: ')\n",
    "print('congruent = ' + str(cong_mean))\n",
    "print('incongruent = ' + str(incong_mean))\n",
    "\n",
    "#report median\n",
    "cong_median= statistics.median(mat[:, 0])\n",
    "incong_median = statistics.median(mat[:, 1])\n",
    "print('-------------------------')\n",
    "print('Median: ')\n",
    "print('congruent = ' + str(cong_median))\n",
    "print('incongruent = ' + str(incong_median))\n",
    "\n",
    "#report range\n",
    "[cong_range, incong_range] = np.ptp(mat, axis = 0)\n",
    "print('-------------------------')\n",
    "print('Range: ')\n",
    "print('congruent = ' + str(cong_range))\n",
    "print('incongruent = ' + str(incong_range))\n",
    "\n",
    "#report IQR\n",
    "cong_iqr = np.subtract(*np.percentile(mat[:,0], [75, 25]))\n",
    "incong_iqr = np.subtract(*np.percentile(mat[:,1], [75, 25]))\n",
    "print('-------------------------')\n",
    "print('IQR: ')\n",
    "print('congruent = ' + str(cong_iqr))\n",
    "print('incongruent = ' + str(incong_iqr))"
   ]
  },
  {
   "cell_type": "markdown",
   "metadata": {},
   "source": [
    "We have computed some descriptive statistics above:\n",
    "\n",
    "Mean: \n",
    "congruent = 14.051125; \n",
    "incongruent = 22.0159166667\n",
    "\n",
    "Median: \n",
    "congruent = 14.3565; \n",
    "incongruent = 21.0175\n",
    "\n",
    "Range: \n",
    "congruent = 13.698; \n",
    "incongruent = 19.568\n",
    "\n",
    "IQR: \n",
    "congruent = 4.3055; \n",
    "incongruent = 5.33475"
   ]
  },
  {
   "cell_type": "markdown",
   "metadata": {},
   "source": [
    "(4) Provide one or two visualizations that show the distribution of the sample data. Write one or two sentences noting what you observe about the plot or plots."
   ]
  },
  {
   "cell_type": "code",
   "execution_count": 3,
   "metadata": {},
   "outputs": [
    {
     "data": {
      "image/png": "[encoded data removed]",
      "text/plain": [
       "<matplotlib.figure.Figure at 0x7f22d1a317f0>"
      ]
     },
     "metadata": {},
     "output_type": "display_data"
    },
    {
     "data": {
      "image/png": "[encoded data removed]",
      "text/plain": [
       "<matplotlib.figure.Figure at 0x7f22d19c5940>"
      ]
     },
     "metadata": {},
     "output_type": "display_data"
    }
   ],
   "source": [
    "# Build the visualizations here\n",
    "# use box plot to check outliers\n",
    "import matplotlib as mpl\n",
    "import matplotlib.pyplot as plt\n",
    "\n",
    "fig0 = plt.figure(1,figsize = (9,6))\n",
    "ax0 = fig0.add_subplot(1,1,1)\n",
    "ax0.set_title('Reading time in different word conditions')\n",
    "ax0.boxplot(mat)\n",
    "bp = plt.xticks([1, 2], ['congruent', 'incongruent'])\n",
    "plt.show()\n",
    "\n",
    "# drop outliers showed in boxplot\n",
    "def find_outliers(data):\n",
    "    quartile_1, quartile_3 = np.percentile(data,[25, 75])\n",
    "    iqr = quartile_3 - quartile_1\n",
    "    lb = quartile_1 - iqr * 1.5\n",
    "    ub = quartile_3 + iqr * 1.5\n",
    "    return np.where((data > ub) | (data < lb))\n",
    "\n",
    "def drop_outliers(matrix, col_index):\n",
    "    outliers = find_outliers(matrix[:,col_index])\n",
    "    result = np.delete(matrix,outliers[0],0)\n",
    "    return result\n",
    "        \n",
    "mat_cleaned = drop_outliers(mat,1)\n",
    "\n",
    "#use hist graph to check normal distribution assumption \n",
    "fig1 = plt.figure(1, figsize = (16,6))\n",
    "\n",
    "ax0 = fig1.add_subplot(1,2,1)\n",
    "ax1 = fig1.add_subplot(1,2,2)\n",
    "\n",
    "ax0.set_title('reading time in congruent condition without outliers')\n",
    "ax1.set_title('reading time in incongruent condition without outliers')\n",
    "\n",
    "ax0.hist(mat_cleaned[:,0])\n",
    "ax1.hist(mat_cleaned[:,1])\n",
    "plt.show()"
   ]
  },
  {
   "cell_type": "markdown",
   "metadata": {},
   "source": [
    "First, we use box plot to show some descriptive statistics in the two conditions. There are two outliers in the incongruent condition group, so we dropped them to conduct further analysis. \n",
    "\n",
    "Second, we use histogram to depict the distribution of reading time of one word list in congruent and incongruent word conditions. The distribution is bell-like and kind of symetric. Given the size of the dataset is so small, we consider the distribution of reading time in both conditions obeys normal distribution, which matches one of the assumption of paired t-test.\n",
    "\n",
    "In addtion, from the box plot, we can see the majority of data points in incongruent group have larger value than the congruent group. We can also see that the median point in incongruent group is also larger than the one in congruent grouop. \n",
    "\n",
    "Based on these observation, we could assume that reading words in incongruent condition takes longer time than reading workd in congruent condition."
   ]
  },
  {
   "cell_type": "markdown",
   "metadata": {},
   "source": [
    "(5) Now, perform the statistical test and report the results. What is the confidence level and your critical statistic value? Do you reject the null hypothesis or fail to reject it? Come to a conclusion in terms of the experiment task. Did the results match up with your expectations?"
   ]
  },
  {
   "cell_type": "markdown",
   "metadata": {},
   "source": [
    "Definition:\n",
    "* $D$: difference between congruent and incongruent samples\n",
    "* $\\bar{D}$: sample mean of difference\n",
    "* $\\mu_d$: population mean of difference, we assume $\\mu_d = 0$ under $\\mathcal{H}_0$\n",
    "* $n$: number of valid samples\n",
    "* $S$: sample variance"
   ]
  },
  {
   "cell_type": "markdown",
   "metadata": {},
   "source": [
    "Since reading time of congruent and incongruent both follow normal distribution and they are independent, the difference $D$ between them is also normal distributed. We can consider the pair t-test as one-sample t-test with population mean $\\mu_d$ and sample $D$.\n",
    "\n",
    "The test statistics is $T = \\frac{\\bar{D}-\\mu_d}{S/\\sqrt{n}}$ which follows Student's t-distribution.\n",
    "\n",
    "Here we define significance level $\\alpha = 0.05$.\n",
    "\n",
    "Under $\\mathcal{H}_0$, we have $\\mu_d = 0$. Then we conduct the one-sample t-test with the cleaned dataset(without outliers) as follow:"
   ]
  },
  {
   "cell_type": "code",
   "execution_count": 4,
   "metadata": {},
   "outputs": [
    {
     "data": {
      "text/plain": [
       "Ttest_1sampResult(statistic=9.5410999084921784, pvalue=4.3818916259231317e-09)"
      ]
     },
     "execution_count": 4,
     "metadata": {},
     "output_type": "execute_result"
    }
   ],
   "source": [
    "import scipy.stats as stats\n",
    "stats.ttest_1samp(a = mat_cleaned[:,1]- mat_cleaned[:,0], popmean = 0)"
   ]
  },
  {
   "cell_type": "markdown",
   "metadata": {},
   "source": [
    "Or we could use paired t-test to get the same result:"
   ]
  },
  {
   "cell_type": "code",
   "execution_count": 5,
   "metadata": {},
   "outputs": [
    {
     "data": {
      "text/plain": [
       "Ttest_relResult(statistic=9.5410999084921784, pvalue=4.3818916259231317e-09)"
      ]
     },
     "execution_count": 5,
     "metadata": {},
     "output_type": "execute_result"
    }
   ],
   "source": [
    "stats.ttest_rel(a = mat_cleaned[:,1], b = mat_cleaned[:,0])"
   ]
  },
  {
   "cell_type": "markdown",
   "metadata": {},
   "source": [
    "As you can see the p-value = 4.3818916259231317e-09 << $\\alpha$ = 0.05, which means we should reject $\\mathcal{H}_0$.\n",
    "\n",
    "In addition, we can compute a $95\\%$ confidence interval for $\\mu_d$:"
   ]
  },
  {
   "cell_type": "code",
   "execution_count": 6,
   "metadata": {},
   "outputs": [
    {
     "data": {
      "text/plain": [
       "(5.4442585904930585, 8.3903777731433031)"
      ]
     },
     "execution_count": 6,
     "metadata": {},
     "output_type": "execute_result"
    }
   ],
   "source": [
    "import math\n",
    "\n",
    "D = mat_cleaned[:,1] - mat_cleaned[:,0]\n",
    "n = len(mat_cleaned)\n",
    "\n",
    "stats.t.interval(\n",
    "    alpha = 0.95,\n",
    "    df = n - 1,\n",
    "    loc = np.mean(D, axis = 0),\n",
    "    scale = np.std(D, axis = 0) / math.sqrt(n)\n",
    ")"
   ]
  },
  {
   "cell_type": "markdown",
   "metadata": {},
   "source": [
    "From above, we can see $\\mu_d = 0$ is not in the $95\\%$ interval, which also means we should reject $\\mathcal{H}_0$."
   ]
  },
  {
   "cell_type": "code",
   "execution_count": null,
   "metadata": {},
   "outputs": [],
   "source": []
  }
 ],
 "metadata": {
  "kernelspec": {
   "display_name": "Python 3",
   "language": "python",
   "name": "python3"
  },
  "language_info": {
   "codemirror_mode": {
    "name": "ipython",
    "version": 3
   },
   "file_extension": ".py",
   "mimetype": "text/x-python",
   "name": "python",
   "nbconvert_exporter": "python",
   "pygments_lexer": "ipython3",
   "version": "3.6.3"
  }
 },
 "nbformat": 4,
 "nbformat_minor": 2
}
