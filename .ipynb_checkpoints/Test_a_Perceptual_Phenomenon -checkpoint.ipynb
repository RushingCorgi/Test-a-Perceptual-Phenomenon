{
 "cells": [
  {
   "cell_type": "markdown",
   "metadata": {},
   "source": [
    "### Analyzing the Stroop Effect\n",
    "Perform the analysis in the space below. Remember to follow [the instructions](https://docs.google.com/document/d/1-OkpZLjG_kX9J6LIQ5IltsqMzVWjh36QpnP2RYpVdPU/pub?embedded=True) and review the [project rubric](https://review.udacity.com/#!/rubrics/71/view) before submitting. Once you've completed the analysis and write up, download this file as a PDF or HTML file and submit in the next section.\n",
    "\n",
    "\n",
    "(1) What is the independent variable? What is the dependent variable?"
   ]
  },
  {
   "cell_type": "markdown",
   "metadata": {},
   "source": [
    "The independent variable is a boolean variable: congruent. If one task is in congruent word condition, then congruent = true. Otherwise, congruent = false. \n",
    "\n",
    "\n",
    "The dependent variable is a continuous variable: the total time to finish one task."
   ]
  },
  {
   "cell_type": "markdown",
   "metadata": {},
   "source": [
    "(2) What is an appropriate set of hypotheses for this task? What kind of statistical test do you expect to perform? Justify your choices."
   ]
  },
  {
   "cell_type": "markdown",
   "metadata": {},
   "source": [
    "* Null hypothesis: the population mean of differences between a same person's reaction time of equally-sized word list in congruent and incongruent condition is 0.\n",
    "* Alternative hypothesis: the population mean of differences between a same person's reaction time of equally-sized word list in congruent and incongruent condition is not 0.\n",
    "\n",
    "To state null hypothesis and alternative hypothesis mathematically, we define the population mean of differences between reaction time of equally-sized word list in congruent and incongruent condition as $\\mu_d$. Then we have null hypothesis and alternative hypothesis as follows:\n",
    "* $\\mathcal{H}_0$: $\\mu_d = 0$.\n",
    "* $\\mathcal{H}_1$: $\\mu_d \\neq 0$.\n",
    "\n",
    "We will use paired t-test in the following analysis. The assumptions for paired t-test are listed as follow:\n",
    "* The independent variable is categorical and the dependent variable is continuous. This has been varified in part(1).\n",
    "* The level of measurement of dependent variable is interval or ratio level. Reaction time is a ratio level measurement.\n",
    "* The samples are dependent. In this case we compare reaction time of the same group of participants which means the samples are linked.\n",
    "* No significant outliers of differences between two groups of observations. We can varify this assuption in part(4) by the box plot.\n",
    "* Random sampling from the population. The paticipants are randomly selected.\n",
    "\n",
    "To justify the choice of paired t-test, we have the following reasons:\n",
    "* We choose t-test rather than z-test because we don't know the population mean of the reaction time in different conditions.\n",
    "* We want to test the mean of differences of two populations, so we won't use 1-sample t-test.\n",
    "* In addtion, the samples in congruent group and incongruent group are from a same group of paricipants, the congruent observations and incongruent observations are dependent.So paired t-test is chosen instead of 2-sample t-test. "
   ]
  },
  {
   "cell_type": "markdown",
   "metadata": {},
   "source": [
    "(3) Report some descriptive statistics regarding this dataset. Include at least one measure of central tendency and at least one measure of variability. The name of the data file is 'stroopdata.csv'."
   ]
  },
  {
   "cell_type": "code",
   "execution_count": 1,
   "metadata": {},
   "outputs": [
    {
     "name": "stdout",
     "output_type": "stream",
     "text": [
      "-------------------------\n",
      "Mean: \n",
      "congruent = 14.051125\n",
      "incongruent = 22.0159166667\n",
      "-------------------------\n",
      "Median: \n",
      "congruent = 14.3565\n",
      "incongruent = 21.0175\n",
      "-------------------------\n",
      "Range: \n",
      "congruent = 13.698\n",
      "incongruent = 19.568\n",
      "-------------------------\n",
      "IQR: \n",
      "congruent = 4.3055\n",
      "incongruent = 5.33475\n"
     ]
    }
   ],
   "source": [
    "# Perform the analysis here\n",
    "# load data\n",
    "import pandas as pd\n",
    "import numpy as np\n",
    "import statistics\n",
    "df = pd.read_csv('stroopdata.csv')\n",
    "mat = df.values\n",
    "\n",
    "#report mean\n",
    "[cong_mean,incong_mean]= np.mean(mat, axis = 0)\n",
    "print('-------------------------')\n",
    "print('Mean: ')\n",
    "print('congruent = ' + str(cong_mean))\n",
    "print('incongruent = ' + str(incong_mean))\n",
    "\n",
    "#report median\n",
    "cong_median= statistics.median(mat[:, 0])\n",
    "incong_median = statistics.median(mat[:, 1])\n",
    "print('-------------------------')\n",
    "print('Median: ')\n",
    "print('congruent = ' + str(cong_median))\n",
    "print('incongruent = ' + str(incong_median))\n",
    "\n",
    "#report range\n",
    "[cong_range, incong_range] = np.ptp(mat, axis = 0)\n",
    "print('-------------------------')\n",
    "print('Range: ')\n",
    "print('congruent = ' + str(cong_range))\n",
    "print('incongruent = ' + str(incong_range))\n",
    "\n",
    "#report IQR\n",
    "cong_iqr = np.subtract(*np.percentile(mat[:,0], [75, 25]))\n",
    "incong_iqr = np.subtract(*np.percentile(mat[:,1], [75, 25]))\n",
    "print('-------------------------')\n",
    "print('IQR: ')\n",
    "print('congruent = ' + str(cong_iqr))\n",
    "print('incongruent = ' + str(incong_iqr))"
   ]
  },
  {
   "cell_type": "markdown",
   "metadata": {},
   "source": [
    "We have computed some descriptive statistics above:\n",
    "\n",
    "Mean: \n",
    "congruent = 14.051125; \n",
    "incongruent = 22.0159166667\n",
    "\n",
    "Median: \n",
    "congruent = 14.3565; \n",
    "incongruent = 21.0175\n",
    "\n",
    "Range: \n",
    "congruent = 13.698; \n",
    "incongruent = 19.568\n",
    "\n",
    "IQR: \n",
    "congruent = 4.3055; \n",
    "incongruent = 5.33475"
   ]
  },
  {
   "cell_type": "markdown",
   "metadata": {},
   "source": [
    "(4) Provide one or two visualizations that show the distribution of the sample data. Write one or two sentences noting what you observe about the plot or plots."
   ]
  },
  {
   "cell_type": "code",
   "execution_count": 2,
   "metadata": {},
   "outputs": [
    {
     "data": {
      "image/png": "[encoded data removed]",
      "text/plain": [
       "<matplotlib.figure.Figure at 0x11c36e048>"
      ]
     },
     "metadata": {},
     "output_type": "display_data"
    },
    {
     "data": {
      "image/png": "[encoded data removed]",
      "text/plain": [
       "<matplotlib.figure.Figure at 0x11eefd358>"
      ]
     },
     "metadata": {},
     "output_type": "display_data"
    }
   ],
   "source": [
    "# Build the visualizations here\n",
    "# use box plot of reaction time of two different groups and their differences.\n",
    "import matplotlib as mpl\n",
    "import matplotlib.pyplot as plt\n",
    "diff = mat[:, 1] - mat[:, 0]\n",
    "\n",
    "fig0 = plt.figure(1,figsize = (16,6))\n",
    "\n",
    "ax0 = fig0.add_subplot(1,2,1)\n",
    "ax1 = fig0.add_subplot(1,2,2)\n",
    "\n",
    "ax0.set_title('Reading time in different word conditions')\n",
    "ax1.set_title('Differences between congruent and incongruent observations')\n",
    "\n",
    "ax0.boxplot(mat)\n",
    "ax1.boxplot(diff)\n",
    "ax0.set_ylim([0,40])\n",
    "ax1.set_ylim([0,40])\n",
    "\n",
    "plt.sca(ax0)\n",
    "plt.xticks([1,2], ['congruent', 'incongruent'])\n",
    "plt.sca(ax1)\n",
    "plt.xticks([1], ['difference'])\n",
    "fig0.tight_layout()\n",
    "plt.show()\n",
    "\n",
    "# drop outliers showed in boxplot\n",
    "# def find_outliers(data):\n",
    "#     quartile_1, quartile_3 = np.percentile(data,[25, 75])\n",
    "#     iqr = quartile_3 - quartile_1\n",
    "#     lb = quartile_1 - iqr * 1.5\n",
    "#     ub = quartile_3 + iqr * 1.5\n",
    "#     return np.where((data > ub) | (data < lb))\n",
    "\n",
    "# def drop_outliers(matrix, col_index):\n",
    "#     outliers = find_outliers(matrix[:,col_index])\n",
    "#     result = np.delete(matrix,outliers[0],0)\n",
    "#     return result\n",
    "        \n",
    "# mat_cleaned = drop_outliers(mat,1)\n",
    "\n",
    "#use hist graph to check normal distribution assumption \n",
    "fig1 = plt.figure(1, figsize = (16,6))\n",
    "\n",
    "ax0 = fig1.add_subplot(1,2,1)\n",
    "ax1 = fig1.add_subplot(1,2,2)\n",
    "\n",
    "ax0.set_title('reading time in congruent condition without outliers')\n",
    "ax1.set_title('reading time in incongruent condition without outliers')\n",
    "ax0.set_ylim([0, 6])\n",
    "ax1.set_ylim([0, 6])\n",
    "ax0.set_xlim([0,40])\n",
    "ax1.set_xlim([0,40])\n",
    "\n",
    "ax0.hist(mat[:,0],bins=np.arange(min(mat[:,0]), max(mat[:,0]) + 0.5, 0.5))\n",
    "ax1.hist(mat[:,1],bins=np.arange(min(mat[:,1]), max(mat[:,1]) + 0.5, 0.5))\n",
    "fig1.tight_layout()\n",
    "plt.show()"
   ]
  },
  {
   "cell_type": "markdown",
   "metadata": {},
   "source": [
    "1. In the upper-left graph, we use box plot to show some descriptive statistics in the two conditions. \n",
    "\n",
    "2. In the upper-right graph, we can see there is only one outlier in the differnces of two groups of samples. We can derive that there is no significant outlier in the differences.\n",
    "\n",
    "3. Below the box plots, we use histogram to depict the distribution of reaction time in congruent and incongruent word conditions. The distribution is bell-like and kind of symetric, which matches one of the assumption of paired t-test.\n",
    "\n",
    "4. In the first box plot, it is obvious that the median of reaction time in incongruent group is larger than the one in congruent group. In the histograms, we can also clearly see that the samples of reaction time in incongruent group are longer than the samples in congruent group.\n",
    "\n",
    "Based on these observation, it seems logical to assume that reading words in incongruent condition takes longer time than reading workd in congruent condition."
   ]
  },
  {
   "cell_type": "markdown",
   "metadata": {},
   "source": [
    "(5) Now, perform the statistical test and report the results. What is the confidence level and your critical statistic value? Do you reject the null hypothesis or fail to reject it? Come to a conclusion in terms of the experiment task. Did the results match up with your expectations?"
   ]
  },
  {
   "cell_type": "markdown",
   "metadata": {},
   "source": [
    "Definition:\n",
    "* $D$: differences between congruent and incongruent samples\n",
    "* $\\bar{D}$: sample mean of differences\n",
    "* $\\mu_d$: population mean of differences, we assume $\\mu_d = 0$ under $\\mathcal{H}_0$\n",
    "* $n$: number of valid samples\n",
    "* $S$: sample variance"
   ]
  },
  {
   "cell_type": "markdown",
   "metadata": {},
   "source": [
    "Since reading time of congruent and incongruent both follow normal distribution and they are independent, the difference $D$ between them is also normal distributed. We can consider the pair t-test as one-sample t-test with population mean $\\mu_d$ and sample $D$.\n",
    "\n",
    "The test statistics is $T = \\frac{\\bar{D}-\\mu_d}{S/\\sqrt{n}}$ which follows Student's t-distribution.\n",
    "\n",
    "Here we define significance level $\\alpha = 0.05$.\n",
    "\n",
    "Under $\\mathcal{H}_0$, we have $\\mu_d = 0$. Then we conduct the one-sample t-test with the dataset as follow:"
   ]
  },
  {
   "cell_type": "code",
   "execution_count": 3,
   "metadata": {},
   "outputs": [
    {
     "data": {
      "text/plain": [
       "Ttest_1sampResult(statistic=8.020706944109957, pvalue=4.1030005857111781e-08)"
      ]
     },
     "execution_count": 3,
     "metadata": {},
     "output_type": "execute_result"
    }
   ],
   "source": [
    "import scipy.stats as stats\n",
    "stats.ttest_1samp(a = mat[:,1]- mat[:,0], popmean = 0)"
   ]
  },
  {
   "cell_type": "markdown",
   "metadata": {},
   "source": [
    "Or we could use paired t-test to get the same result:"
   ]
  },
  {
   "cell_type": "code",
   "execution_count": 4,
   "metadata": {},
   "outputs": [
    {
     "data": {
      "text/plain": [
       "Ttest_relResult(statistic=8.020706944109957, pvalue=4.1030005857111781e-08)"
      ]
     },
     "execution_count": 4,
     "metadata": {},
     "output_type": "execute_result"
    }
   ],
   "source": [
    "stats.ttest_rel(a = mat[:,1], b = mat[:,0])"
   ]
  },
  {
   "cell_type": "markdown",
   "metadata": {},
   "source": [
    "As you can see the p-value = 4.1030005857111781e-08 << $\\alpha$ = 0.05, which means we should reject $\\mathcal{H}_0$.\n",
    "\n",
    "In addition, we can compute a $95\\%$ confidence interval for $\\mu_d$:"
   ]
  },
  {
   "cell_type": "code",
   "execution_count": 5,
   "metadata": {},
   "outputs": [
    {
     "data": {
      "text/plain": [
       "(5.9538073467507431, 9.9757759865825886)"
      ]
     },
     "execution_count": 5,
     "metadata": {},
     "output_type": "execute_result"
    }
   ],
   "source": [
    "import math\n",
    "\n",
    "D = mat[:,1] - mat[:,0]\n",
    "n = len(mat)\n",
    "\n",
    "stats.t.interval(\n",
    "    alpha = 0.95,\n",
    "    df = n - 1,\n",
    "    loc = np.mean(D, axis = 0),\n",
    "    scale = np.std(D, axis = 0) / math.sqrt(n)\n",
    ")"
   ]
  },
  {
   "cell_type": "markdown",
   "metadata": {},
   "source": [
    "From above, we can see $\\mu_d = 0$ is not in the $95\\%$ interval, which also means we should reject $\\mathcal{H}_0$."
   ]
  },
  {
   "cell_type": "markdown",
   "metadata": {
    "collapsed": true
   },
   "source": [
    "#### The reason to reject $\\mathcal{H}_0$:"
   ]
  },
  {
   "cell_type": "markdown",
   "metadata": {},
   "source": [
    "* The p-value $\\approx 4.1\\times10^{-8}$. Since p-value is the smallest significance level that lead us to reject $\\mathcal{H_0}$, it infers that the probability to have type I error is around $4.1\\times10^{-8}$. So we have a very low chance to reject $\\mathcal{H}_0$ while $\\mathcal{H}_0$ is true.\n",
    "\n",
    "\n",
    "* Another way to interpret p-value: p-value is the probability that we observe a more extreme statistic than we did under $\\mathcal{H}_0$. Notice that the p-value we obtained is extremely small. We can infer that if $\\mathcal{H}_0$ were true, our observation is almost impossible to happen. Namely, $\\mathcal{H}_0$ can hardly be true.\n",
    "\n",
    "\n",
    "* The $95\\%$ confidence interval is $(5.9538073467507431, 9.9757759865825886)$. It means that we can be $95\\%$ sure that the $\\mu_d = 0$ is not contained in this interval. This conclusion also help us to reject $\\mathcal{H}_0$ logically."
   ]
  },
  {
   "cell_type": "markdown",
   "metadata": {},
   "source": [
    "#### Interpret the statistical results"
   ]
  },
  {
   "cell_type": "markdown",
   "metadata": {},
   "source": [
    "We rejected $\\mathcal{H}_0$ above, this means the durations that a same person to read a equally-sized word list in different conditions(congruent condition and incongruent condtion) are different. We can draw a conclusion that there is a high probability that the stroop effect exists."
   ]
  },
  {
   "cell_type": "code",
   "execution_count": null,
   "metadata": {
    "collapsed": true
   },
   "outputs": [],
   "source": []
  }
 ],
 "metadata": {
  "kernelspec": {
   "display_name": "Python 3",
   "language": "python",
   "name": "python3"
  },
  "language_info": {
   "codemirror_mode": {
    "name": "ipython",
    "version": 3
   },
   "file_extension": ".py",
   "mimetype": "text/x-python",
   "name": "python",
   "nbconvert_exporter": "python",
   "pygments_lexer": "ipython3",
   "version": "3.6.2"
  }
 },
 "nbformat": 4,
 "nbformat_minor": 2
}
